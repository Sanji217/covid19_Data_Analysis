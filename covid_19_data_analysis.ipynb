{
  "cells": [
    {
      "cell_type": "code",
      "execution_count": 1,
      "metadata": {
        "id": "t1OEuz1US_CM"
      },
      "outputs": [],
      "source": [
        "from urllib.request import urlretrieve"
      ]
    },
    {
      "cell_type": "code",
      "execution_count": null,
      "metadata": {
        "id": "ZX_tlgXrS1CJ"
      },
      "outputs": [],
      "source": [
        "italy_covid_url = 'https://gist.githubusercontent.com/aakashns/f6a004fa20c84fec53262f9a8bfee775/raw/f309558b1cf5103424cef58e2ecb8704dcd4d74c/italy-covid-daywise.csv'\n",
        "\n",
        "urlretrieve(italy_covid_url, 'italy-covid-daywise.csv')"
      ]
    },
    {
      "cell_type": "code",
      "execution_count": 3,
      "metadata": {
        "id": "EN3-2GEbS4TE"
      },
      "outputs": [],
      "source": [
        "import pandas as pd"
      ]
    },
    {
      "cell_type": "code",
      "execution_count": 4,
      "metadata": {
        "id": "ONBYyVLZTKiq"
      },
      "outputs": [],
      "source": [
        "covid_df = pd.read_csv('italy-covid-daywise.csv')"
      ]
    },
    {
      "cell_type": "code",
      "execution_count": null,
      "metadata": {
        "id": "0xMLydtaTje7"
      },
      "outputs": [],
      "source": [
        "type(covid_df)"
      ]
    },
    {
      "cell_type": "code",
      "execution_count": null,
      "metadata": {
        "id": "k2VLsw2CT6F8"
      },
      "outputs": [],
      "source": [
        "covid_df"
      ]
    },
    {
      "cell_type": "code",
      "execution_count": null,
      "metadata": {
        "id": "wkTx1KdrUEek"
      },
      "outputs": [],
      "source": [
        "covid_df.info()"
      ]
    },
    {
      "cell_type": "code",
      "execution_count": null,
      "metadata": {
        "id": "fJwK81iJUXYP"
      },
      "outputs": [],
      "source": [
        "covid_df.describe()"
      ]
    },
    {
      "cell_type": "code",
      "execution_count": null,
      "metadata": {
        "id": "l2-29n7nUwtN"
      },
      "outputs": [],
      "source": [
        "covid_df.columns"
      ]
    },
    {
      "cell_type": "code",
      "execution_count": null,
      "metadata": {
        "id": "wPhlAAXMU6op"
      },
      "outputs": [],
      "source": [
        "covid_df.shape"
      ]
    },
    {
      "cell_type": "code",
      "execution_count": 11,
      "metadata": {
        "id": "l-6MTXE_VAcX"
      },
      "outputs": [],
      "source": [
        "# Pandas format is simliar to this\n",
        "covid_data_dict = {\n",
        "    'date':       ['2020-08-30', '2020-08-31', '2020-09-01', '2020-09-02', '2020-09-03'],\n",
        "    'new_cases':  [1444, 1365, 996, 975, 1326],\n",
        "    'new_deaths': [1, 4, 6, 8, 6],\n",
        "    'new_tests': [53541, 42583, 54395, None, None]\n",
        "}"
      ]
    },
    {
      "cell_type": "code",
      "execution_count": 12,
      "metadata": {
        "id": "j7emSgotVAdx"
      },
      "outputs": [],
      "source": [
        "# Pandas format is not similar to this\n",
        "covid_data_list = [\n",
        "    {'date': '2020-08-30', 'new_cases': 1444, 'new_deaths': 1, 'new_tests': 53541},\n",
        "    {'date': '2020-08-31', 'new_cases': 1365, 'new_deaths': 4, 'new_tests': 42583},\n",
        "    {'date': '2020-09-01', 'new_cases': 996, 'new_deaths': 6, 'new_tests': 54395},\n",
        "    {'date': '2020-09-02', 'new_cases': 975, 'new_deaths': 8 },\n",
        "    {'date': '2020-09-03', 'new_cases': 1326, 'new_deaths': 6},\n",
        "]"
      ]
    },
    {
      "cell_type": "code",
      "execution_count": 13,
      "metadata": {
        "id": "Sl7OBdcEVAib"
      },
      "outputs": [],
      "source": [
        "# Pandas format is not similar to this\n",
        "covid_data_list = [\n",
        "    {'date': '2020-08-30', 'new_cases': 1444, 'new_deaths': 1, 'new_tests': 53541},\n",
        "    {'date': '2020-08-31', 'new_cases': 1365, 'new_deaths': 4, 'new_tests': 42583},\n",
        "    {'date': '2020-09-01', 'new_cases': 996, 'new_deaths': 6, 'new_tests': 54395},\n",
        "    {'date': '2020-09-02', 'new_cases': 975, 'new_deaths': 8 },\n",
        "    {'date': '2020-09-03', 'new_cases': 1326, 'new_deaths': 6},\n",
        "]"
      ]
    },
    {
      "cell_type": "code",
      "execution_count": null,
      "metadata": {
        "id": "ahlH_iGhU6uK"
      },
      "outputs": [],
      "source": [
        "covid_data_dict['new_cases']"
      ]
    },
    {
      "cell_type": "code",
      "execution_count": null,
      "metadata": {
        "id": "dQ0U8YekWClw"
      },
      "outputs": [],
      "source": [
        "covid_df['new_cases']"
      ]
    },
    {
      "cell_type": "code",
      "execution_count": null,
      "metadata": {
        "id": "iepNn17_Wtqb"
      },
      "outputs": [],
      "source": [
        "type(covid_df['new_cases'])"
      ]
    },
    {
      "cell_type": "code",
      "execution_count": null,
      "metadata": {
        "id": "D0R-klpgWzdL"
      },
      "outputs": [],
      "source": [
        "covid_df['new_cases'][246]"
      ]
    },
    {
      "cell_type": "code",
      "execution_count": null,
      "metadata": {
        "id": "ljClcV2KXLaX"
      },
      "outputs": [],
      "source": [
        "covid_df.at[247 , 'new_cases']"
      ]
    },
    {
      "cell_type": "code",
      "execution_count": null,
      "metadata": {
        "id": "uzJV827nXuQF"
      },
      "outputs": [],
      "source": [
        "covid_df.new_cases"
      ]
    },
    {
      "cell_type": "code",
      "execution_count": 22,
      "metadata": {
        "id": "VPVyHTdTX84q"
      },
      "outputs": [],
      "source": [
        "cases_df = covid_df[['date' , 'new_cases']]"
      ]
    },
    {
      "cell_type": "code",
      "execution_count": null,
      "metadata": {
        "id": "ecycCJoYX9Em"
      },
      "outputs": [],
      "source": [
        "cases_df"
      ]
    },
    {
      "cell_type": "code",
      "execution_count": 24,
      "metadata": {
        "id": "vWVr4FUzYaN-"
      },
      "outputs": [],
      "source": [
        "covid_df_copy = covid_df.copy()"
      ]
    },
    {
      "cell_type": "code",
      "execution_count": null,
      "metadata": {
        "id": "UF2HmmTSY38q"
      },
      "outputs": [],
      "source": [
        "covid_df.loc[246]"
      ]
    },
    {
      "cell_type": "code",
      "execution_count": null,
      "metadata": {
        "id": "6v6nWSCNZdXL"
      },
      "outputs": [],
      "source": [
        "type(covid_df.loc[243])"
      ]
    },
    {
      "cell_type": "code",
      "execution_count": null,
      "metadata": {
        "id": "oC9FQTeVZgyy"
      },
      "outputs": [],
      "source": [
        "covid_df.head(5)"
      ]
    },
    {
      "cell_type": "code",
      "execution_count": null,
      "metadata": {
        "id": "kA53xRI6Zp0s"
      },
      "outputs": [],
      "source": [
        "covid_df.tail(5)"
      ]
    },
    {
      "cell_type": "code",
      "execution_count": null,
      "metadata": {
        "id": "WE5t6EZqZz3r"
      },
      "outputs": [],
      "source": [
        "covid_df.at[0, 'new_tests']"
      ]
    },
    {
      "cell_type": "code",
      "execution_count": null,
      "metadata": {
        "id": "E2P0RjTmZ0Dv"
      },
      "outputs": [],
      "source": [
        "type(covid_df.at[0 , 'new_tests'])"
      ]
    },
    {
      "cell_type": "code",
      "execution_count": null,
      "metadata": {
        "id": "9Il4lU9vbCGI"
      },
      "outputs": [],
      "source": [
        "covid_df.new_tests.first_valid_index()"
      ]
    },
    {
      "cell_type": "code",
      "execution_count": null,
      "metadata": {
        "id": "ASpZNvRhbdR1"
      },
      "outputs": [],
      "source": [
        "covid_df.loc[108:113]"
      ]
    },
    {
      "cell_type": "code",
      "execution_count": null,
      "metadata": {
        "id": "lNUIiOGwbdaL"
      },
      "outputs": [],
      "source": [
        "covid_df.sample(10)"
      ]
    },
    {
      "cell_type": "code",
      "execution_count": 33,
      "metadata": {
        "id": "pM-EkhsSbdjX"
      },
      "outputs": [],
      "source": [
        "total_cases = covid_df.new_cases.sum()\n",
        "total_deaths = covid_df.new_deaths.sum()"
      ]
    },
    {
      "cell_type": "code",
      "execution_count": null,
      "metadata": {
        "id": "J9PLZ-lXdBwq"
      },
      "outputs": [],
      "source": [
        "print('The total number of reported cases {} and total number of deaths {}'.format(int(total_cases) , int (total_deaths)))"
      ]
    },
    {
      "cell_type": "code",
      "execution_count": 35,
      "metadata": {
        "id": "dGZC8mVgeCVk"
      },
      "outputs": [],
      "source": [
        "death_rate = covid_df.new_deaths.sum()/covid_df.new_cases.sum()"
      ]
    },
    {
      "cell_type": "code",
      "execution_count": null,
      "metadata": {
        "id": "3oeiQe4FeTbR"
      },
      "outputs": [],
      "source": [
        "print('The overall death rate is   {:.2f} %'.format(death_rate*100))"
      ]
    },
    {
      "cell_type": "code",
      "source": [
        "covid_df.date"
      ],
      "metadata": {
        "id": "7f1bfs-fc75m"
      },
      "execution_count": null,
      "outputs": []
    },
    {
      "cell_type": "code",
      "source": [
        "covid_df['date'] = pd.to_datetime(covid_df.date)"
      ],
      "metadata": {
        "id": "vdTB4b35dBKN"
      },
      "execution_count": 39,
      "outputs": []
    },
    {
      "cell_type": "code",
      "source": [
        "covid_df['date']"
      ],
      "metadata": {
        "id": "5D34Ju9UdSWM"
      },
      "execution_count": null,
      "outputs": []
    },
    {
      "cell_type": "code",
      "source": [
        "covid_df['year'] = pd.DatetimeIndex(covid_df.date).year\n",
        "covid_df['month'] = pd.DatetimeIndex(covid_df.date).month\n",
        "covid_df['day'] = pd.DatetimeIndex(covid_df.date).day\n",
        "covid_df['weekday'] = pd.DatetimeIndex(covid_df.date).weekday"
      ],
      "metadata": {
        "id": "kiqd3vO3dXwQ"
      },
      "execution_count": 42,
      "outputs": []
    },
    {
      "cell_type": "code",
      "source": [
        "covid_df"
      ],
      "metadata": {
        "id": "L7OpyD-ud-ft"
      },
      "execution_count": null,
      "outputs": []
    },
    {
      "cell_type": "code",
      "source": [
        "covid_df_may = covid_df[covid_df.month == 5]\n",
        "\n",
        "covid_df_may_metrics = covid_df[['new_cases', 'new_deaths' , 'new_tests']]\n",
        "\n",
        "covid_may_totals = covid_df_may_metrics.sum()"
      ],
      "metadata": {
        "id": "YzFoz4eueGcg"
      },
      "execution_count": 44,
      "outputs": []
    },
    {
      "cell_type": "code",
      "source": [
        "covid_may_totals"
      ],
      "metadata": {
        "id": "IYjo84lNewvs"
      },
      "execution_count": null,
      "outputs": []
    },
    {
      "cell_type": "code",
      "source": [
        "type(covid_may_totals)"
      ],
      "metadata": {
        "id": "PptshLtYe4KG"
      },
      "execution_count": null,
      "outputs": []
    },
    {
      "cell_type": "code",
      "source": [
        "covid_df.new_cases.mean()"
      ],
      "metadata": {
        "id": "sXSUG_48e_EA"
      },
      "execution_count": null,
      "outputs": []
    },
    {
      "cell_type": "code",
      "source": [
        "covid_df[covid_df.weekday == 6].mean()"
      ],
      "metadata": {
        "id": "1YDtAC5dfg7V"
      },
      "execution_count": null,
      "outputs": []
    },
    {
      "cell_type": "code",
      "source": [
        "covid_df_month = covid_df.groupby('month')[['new_cases' , 'new_deaths' , 'new_tests']].sum()"
      ],
      "metadata": {
        "id": "ZUzjmAYffyaF"
      },
      "execution_count": 49,
      "outputs": []
    },
    {
      "cell_type": "code",
      "source": [
        "covid_df_month"
      ],
      "metadata": {
        "id": "cN7JvL9RgaSG"
      },
      "execution_count": null,
      "outputs": []
    },
    {
      "cell_type": "code",
      "source": [
        "covid_month_mean_df = covid_df.groupby('month')[['new_cases' , 'new_deaths' , 'new_tests']].mean()"
      ],
      "metadata": {
        "id": "P6wpoNpMgchB"
      },
      "execution_count": 51,
      "outputs": []
    },
    {
      "cell_type": "code",
      "source": [
        "covid_month_mean_df"
      ],
      "metadata": {
        "id": "AYrs7pE2hNC7"
      },
      "execution_count": null,
      "outputs": []
    },
    {
      "cell_type": "code",
      "source": [
        "covid_df['total_cases'] = covid_df.new_cases.cumsum()"
      ],
      "metadata": {
        "id": "c9L8GzVZhRud"
      },
      "execution_count": null,
      "outputs": []
    },
    {
      "cell_type": "code",
      "source": [
        "covid_df['total_deaths'] = covid_df.new_deaths.cumsum()"
      ],
      "metadata": {
        "id": "zTCa7VHJh4Io"
      },
      "execution_count": 53,
      "outputs": []
    },
    {
      "cell_type": "code",
      "source": [
        "initial_tests = 935310\n",
        "covid_df['total_tests'] = covid_df.new_tests.cumsum() + initial_tests"
      ],
      "metadata": {
        "id": "NoY3PKU5h_w5"
      },
      "execution_count": 54,
      "outputs": []
    },
    {
      "cell_type": "code",
      "source": [
        "covid_df"
      ],
      "metadata": {
        "id": "uqJWkNY_iGFc"
      },
      "execution_count": null,
      "outputs": []
    },
    {
      "cell_type": "code",
      "source": [
        "urlretrieve('https://gist.githubusercontent.com/aakashns/8684589ef4f266116cdce023377fc9c8/raw/99ce3826b2a9d1e6d0bde7e9e559fc8b6e9ac88b/locations.csv',\n",
        "            'locations.csv')"
      ],
      "metadata": {
        "id": "u624nZHSiQCT"
      },
      "execution_count": null,
      "outputs": []
    },
    {
      "cell_type": "code",
      "source": [
        "locations_df = pd.read_csv('locations.csv')"
      ],
      "metadata": {
        "id": "6T9NxG4JkZPU"
      },
      "execution_count": 57,
      "outputs": []
    },
    {
      "cell_type": "code",
      "source": [
        "locations_df"
      ],
      "metadata": {
        "id": "djbBY-4ikkLS"
      },
      "execution_count": null,
      "outputs": []
    },
    {
      "cell_type": "code",
      "source": [
        "locations_df[locations_df.location == 'Italy']"
      ],
      "metadata": {
        "id": "G_fII8MMkq_Y"
      },
      "execution_count": null,
      "outputs": []
    },
    {
      "cell_type": "code",
      "source": [
        "covid_df['location'] = 'Italy'"
      ],
      "metadata": {
        "id": "9w3dDfV0lBKx"
      },
      "execution_count": 59,
      "outputs": []
    },
    {
      "cell_type": "code",
      "source": [
        "covid_df"
      ],
      "metadata": {
        "id": "hAaPEOPsk5SF"
      },
      "execution_count": null,
      "outputs": []
    },
    {
      "cell_type": "code",
      "source": [
        "# Calculate total_cases, total_deaths, and total_tests for covid_df\n",
        "covid_df['total_cases'] = covid_df.new_cases.cumsum()\n",
        "covid_df['total_deaths'] = covid_df.new_deaths.cumsum()\n",
        "initial_tests = 935310  # Replace with the actual initial tests value if known\n",
        "covid_df['total_tests'] = covid_df.new_tests.cumsum() + initial_tests\n"
      ],
      "metadata": {
        "id": "pe_T62dJHGJA"
      },
      "execution_count": 69,
      "outputs": []
    },
    {
      "cell_type": "code",
      "source": [
        "merged_df = covid_df.merge(locations_df , on = 'location')"
      ],
      "metadata": {
        "id": "sEKbjGzulOXJ"
      },
      "execution_count": 70,
      "outputs": []
    },
    {
      "cell_type": "code",
      "source": [
        "merged_df"
      ],
      "metadata": {
        "id": "FJumwKiPl90g"
      },
      "execution_count": null,
      "outputs": []
    },
    {
      "cell_type": "code",
      "source": [
        "\n",
        "merged_df['cases_per_million'] = merged_df.total_cases * 1e6 / merged_df.population"
      ],
      "metadata": {
        "id": "jg7NwzlOmBbo"
      },
      "execution_count": 72,
      "outputs": []
    },
    {
      "cell_type": "code",
      "source": [
        "merged_df['deaths_per_million'] = merged_df.total_deaths * 1e6 / merged_df.population"
      ],
      "metadata": {
        "id": "dLCi4tZWm2MJ"
      },
      "execution_count": 73,
      "outputs": []
    },
    {
      "cell_type": "code",
      "source": [
        "merged_df['tests_per_million'] = merged_df.total_tests * 1e6 / merged_df.population"
      ],
      "metadata": {
        "id": "XDLRJQgUnBwh"
      },
      "execution_count": 74,
      "outputs": []
    },
    {
      "cell_type": "code",
      "source": [
        "merged_df"
      ],
      "metadata": {
        "id": "GqaidNZQnPzR"
      },
      "execution_count": null,
      "outputs": []
    },
    {
      "cell_type": "code",
      "source": [
        "results_df = merged_df[['date' ,\n",
        "                        'new_cases',\n",
        "                        'total_cases',\n",
        "                        'new_deaths' ,\n",
        "                        'total_deaths',\n",
        "                        'new_tests',\n",
        "                        'total_tests',\n",
        "                        'cases_per_million',\n",
        "                        'deaths_per_million',\n",
        "                        'tests_per_million']]"
      ],
      "metadata": {
        "id": "CXaapKd1nUYx"
      },
      "execution_count": 76,
      "outputs": []
    },
    {
      "cell_type": "code",
      "source": [
        "results_df"
      ],
      "metadata": {
        "id": "trE_di_6owxD"
      },
      "execution_count": null,
      "outputs": []
    },
    {
      "cell_type": "code",
      "source": [
        "results_df.to_csv('results.csv', index=None)"
      ],
      "metadata": {
        "id": "SZVOtUB6pCgP"
      },
      "execution_count": 78,
      "outputs": []
    },
    {
      "cell_type": "code",
      "source": [
        "results_df"
      ],
      "metadata": {
        "id": "FmMLVuLppDI1"
      },
      "execution_count": null,
      "outputs": []
    },
    {
      "cell_type": "code",
      "source": [
        "results_df.new_cases.plot()"
      ],
      "metadata": {
        "id": "wiJBkjZsp8cH"
      },
      "execution_count": null,
      "outputs": []
    },
    {
      "cell_type": "code",
      "source": [
        "results_df.set_index('date' , inplace = True)"
      ],
      "metadata": {
        "id": "fUFQB1QEqUBQ"
      },
      "execution_count": 80,
      "outputs": []
    },
    {
      "cell_type": "code",
      "source": [
        "results_df"
      ],
      "metadata": {
        "id": "8J1SnPZFrDzd"
      },
      "execution_count": null,
      "outputs": []
    },
    {
      "cell_type": "code",
      "source": [
        "results_df.loc['2020-09-01']"
      ],
      "metadata": {
        "id": "WePmOLaQrNJK"
      },
      "execution_count": null,
      "outputs": []
    },
    {
      "cell_type": "code",
      "source": [
        "results_df.new_cases.plot()"
      ],
      "metadata": {
        "id": "70KMLsf5rXwG"
      },
      "execution_count": null,
      "outputs": []
    },
    {
      "cell_type": "code",
      "source": [
        "results_df.new_deaths.plot()"
      ],
      "metadata": {
        "id": "HE771C7Rrmsn"
      },
      "execution_count": null,
      "outputs": []
    },
    {
      "cell_type": "code",
      "source": [
        "results_df.total_cases.plot()\n",
        "results_df.total_deaths.plot()"
      ],
      "metadata": {
        "id": "s9wJbzUUrqza"
      },
      "execution_count": null,
      "outputs": []
    },
    {
      "cell_type": "code",
      "source": [
        "death_rate = results_df.total_deaths/results_df.total_cases"
      ],
      "metadata": {
        "id": "g7MSIxGIr8hQ"
      },
      "execution_count": 86,
      "outputs": []
    },
    {
      "cell_type": "code",
      "source": [
        "death_rate.plot(title='Death Rate')"
      ],
      "metadata": {
        "id": "pBDeMhxbsb5M"
      },
      "execution_count": null,
      "outputs": []
    },
    {
      "cell_type": "code",
      "source": [
        "positive_rates = results_df.total_cases/results_df.total_tests\n",
        "positive_rates.plot(title = 'Positive Rate')"
      ],
      "metadata": {
        "id": "g_SSOOP3skGb"
      },
      "execution_count": null,
      "outputs": []
    },
    {
      "cell_type": "code",
      "source": [
        "covid_month_df = covid_df.groupby('month')[['new_cases', 'new_deaths', 'new_tests']].sum()"
      ],
      "metadata": {
        "id": "BXLy41V2tj1I"
      },
      "execution_count": 89,
      "outputs": []
    },
    {
      "cell_type": "code",
      "source": [
        "covid_month_df.new_cases.plot(kind='bar')"
      ],
      "metadata": {
        "id": "asPuzlBns7gx"
      },
      "execution_count": null,
      "outputs": []
    },
    {
      "cell_type": "code",
      "source": [
        "covid_month_df.new_deaths.plot(kind='bar')"
      ],
      "metadata": {
        "id": "LlxT-0iKtwF1"
      },
      "execution_count": null,
      "outputs": []
    }
  ],
  "metadata": {
    "colab": {
      "provenance": []
    },
    "kernelspec": {
      "display_name": "Python 3",
      "name": "python3"
    },
    "language_info": {
      "name": "python"
    }
  },
  "nbformat": 4,
  "nbformat_minor": 0
}